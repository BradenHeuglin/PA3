{
 "cells": [
  {
   "cell_type": "code",
   "execution_count": 47,
   "id": "37985c8f",
   "metadata": {},
   "outputs": [
    {
     "name": "stdout",
     "output_type": "stream",
     "text": [
      "0 *\n",
      "1\n",
      "2\n",
      "3 *\n",
      "4\n",
      "5\n",
      "6 *\n",
      "7\n",
      "8\n",
      "9 *\n",
      "10\n",
      "11\n",
      "12 *\n",
      "13\n",
      "14\n",
      "15 *\n",
      "16\n",
      "17\n",
      "18 *\n",
      "19\n",
      "20\n",
      "21 *\n",
      "22\n",
      "23\n",
      "24 *\n",
      "25\n",
      "26\n",
      "27 *\n",
      "28\n",
      "29\n",
      "30 *\n",
      "31\n",
      "32\n",
      "33 *\n",
      "34\n",
      "35\n",
      "36 *\n",
      "37\n",
      "38\n",
      "39 *\n",
      "40\n",
      "41\n",
      "42 *\n",
      "43\n",
      "44\n",
      "45 *\n",
      "46\n",
      "47\n",
      "48 *\n",
      "49\n",
      "50\n",
      "51 *\n",
      "52\n",
      "53\n",
      "54 *\n",
      "55\n",
      "56\n",
      "57 *\n",
      "58\n",
      "59\n",
      "60 *\n",
      "61\n",
      "62\n",
      "63 *\n",
      "64\n",
      "65\n",
      "66 *\n",
      "67\n",
      "68\n",
      "69 *\n",
      "70\n",
      "71\n",
      "72 *\n",
      "73\n",
      "74\n",
      "75 *\n",
      "76\n",
      "77\n",
      "78 *\n",
      "79\n",
      "80\n",
      "81 *\n",
      "82\n",
      "83\n",
      "84 *\n",
      "85\n",
      "86\n",
      "87 *\n",
      "88\n",
      "89\n",
      "90 *\n",
      "91\n",
      "92\n",
      "93 *\n",
      "94\n",
      "95\n",
      "96 *\n",
      "97\n",
      "98\n",
      "99 *\n"
     ]
    }
   ],
   "source": [
    "for number in range(0,100): #Part a\n",
    "    if number %3!=0:\n",
    "        print(number)\n",
    "    else:\n",
    "        print(number,'*')"
   ]
  },
  {
   "cell_type": "code",
   "execution_count": 18,
   "id": "f94d1cc3",
   "metadata": {},
   "outputs": [
    {
     "name": "stdout",
     "output_type": "stream",
     "text": [
      "Enter your age: 0\n",
      "0\n"
     ]
    }
   ],
   "source": [
    "age=int(input(\"Enter your age: \")) #Part b\n",
    "if age>0 and age<18:\n",
    "    print(\"You are a minor.\")\n",
    "elif age>=18 and age<=64:\n",
    "    print(\"You are an adult.\")\n",
    "elif age>=65:\n",
    "    print(\"You are a senior citizen.\")\n",
    "else:\n",
    "    print(age)"
   ]
  },
  {
   "cell_type": "code",
   "execution_count": 48,
   "id": "079598fd",
   "metadata": {},
   "outputs": [
    {
     "data": {
      "text/plain": [
       "(3, 12, 17, 23, 40, 67, 81, 93)"
      ]
     },
     "execution_count": 48,
     "metadata": {},
     "output_type": "execute_result"
    }
   ],
   "source": [
    "numbers=(3, 12, 17, 23, 40, 67, 81, 93) #Part c\n",
    "numbers"
   ]
  },
  {
   "cell_type": "code",
   "execution_count": 49,
   "id": "d0fcd610",
   "metadata": {},
   "outputs": [
    {
     "name": "stdout",
     "output_type": "stream",
     "text": [
      "3 : Minor\n",
      "12 : Minor\n",
      "17 : Minor\n",
      "23 : Adult\n",
      "40 : Adult\n",
      "67 : Senior Citizen\n",
      "81 : Senior Citizen\n",
      "93 : Senior Citizen\n"
     ]
    }
   ],
   "source": [
    "for number in numbers:\n",
    "    if number>0 and number<18:\n",
    "        print(number,\": Minor\")\n",
    "    elif number>=18 and number<=64:\n",
    "        print(number,\": Adult\")\n",
    "    elif number>=65:\n",
    "        print(number,\": Senior Citizen\")\n",
    "    else:\n",
    "        print(\" \")"
   ]
  },
  {
   "cell_type": "markdown",
   "id": "b4e3ef0a",
   "metadata": {},
   "source": [
    "# PA3\n",
    "## Braden Heuglin\n",
    "### Version 1\n",
    "#### Fall Semester 2022"
   ]
  }
 ],
 "metadata": {
  "kernelspec": {
   "display_name": "Python 3 (ipykernel)",
   "language": "python",
   "name": "python3"
  },
  "language_info": {
   "codemirror_mode": {
    "name": "ipython",
    "version": 3
   },
   "file_extension": ".py",
   "mimetype": "text/x-python",
   "name": "python",
   "nbconvert_exporter": "python",
   "pygments_lexer": "ipython3",
   "version": "3.9.12"
  }
 },
 "nbformat": 4,
 "nbformat_minor": 5
}
